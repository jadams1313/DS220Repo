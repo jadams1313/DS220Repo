{
  "nbformat": 4,
  "nbformat_minor": 0,
  "metadata": {
    "colab": {
      "provenance": [],
      "authorship_tag": "ABX9TyMdTbZBHYtqsP5rCv7bcN8L",
      "include_colab_link": true
    },
    "kernelspec": {
      "name": "python3",
      "display_name": "Python 3"
    },
    "language_info": {
      "name": "python"
    }
  },
  "cells": [
    {
      "cell_type": "markdown",
      "metadata": {
        "id": "view-in-github",
        "colab_type": "text"
      },
      "source": [
        "<a href=\"https://colab.research.google.com/github/jadams1313/DS220Repo/blob/main/DS220_Project_2.ipynb\" target=\"_parent\"><img src=\"https://colab.research.google.com/assets/colab-badge.svg\" alt=\"Open In Colab\"/></a>"
      ]
    },
    {
      "cell_type": "code",
      "execution_count": 1,
      "metadata": {
        "id": "je6SBQbUjeNN"
      },
      "outputs": [],
      "source": [
        "import pandas as pd"
      ]
    },
    {
      "cell_type": "markdown",
      "source": [
        "Loading Dataset into Pandas"
      ],
      "metadata": {
        "id": "rS-plLTfjspq"
      }
    },
    {
      "cell_type": "code",
      "source": [],
      "metadata": {
        "id": "Rjhj6ciXjlnH"
      },
      "execution_count": null,
      "outputs": []
    },
    {
      "cell_type": "markdown",
      "source": [
        "Framing Questions for EDA:\n",
        "1.\n",
        "2.\n",
        "3.\n",
        "4.\n",
        "5.\n",
        "6.\n",
        "...."
      ],
      "metadata": {
        "id": "4UNMcbC-jvdD"
      }
    },
    {
      "cell_type": "code",
      "source": [],
      "metadata": {
        "id": "J_iCMIuVjylX"
      },
      "execution_count": null,
      "outputs": []
    }
  ]
}