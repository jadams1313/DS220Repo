{
  "cells": [
    {
      "cell_type": "markdown",
      "metadata": {
        "colab_type": "text",
        "id": "view-in-github"
      },
      "source": [
        "<a href=\"https://colab.research.google.com/github/jadams1313/DS220Repo/blob/main/DS220_Project2%20(finished%20EDA).ipynb\" target=\"_parent\"><img src=\"https://colab.research.google.com/assets/colab-badge.svg\" alt=\"Open In Colab\"/></a>"
      ]
    },
    {
      "cell_type": "code",
      "execution_count": 2,
      "metadata": {
        "id": "je6SBQbUjeNN"
      },
      "outputs": [],
      "source": [
        "import pandas as pd\n",
        "import numpy as np\n",
        "import matplotlib.pyplot as plt"
      ]
    },
    {
      "cell_type": "markdown",
      "metadata": {
        "id": "rS-plLTfjspq"
      },
      "source": [
        "Loading Dataset into Pandas"
      ]
    },
    {
      "cell_type": "code",
      "execution_count": 3,
      "metadata": {
        "id": "Rjhj6ciXjlnH"
      },
      "outputs": [],
      "source": [
        "Coffee = pd.read_csv('arabica_coffee_data.csv')"
      ]
    },
    {
      "cell_type": "markdown",
      "metadata": {
        "id": "Oq2xpjKWqJLj"
      },
      "source": [
        "Background about Dataset:\n",
        "\n",
        "This dataset contains the milling, company, and product info for over 1000 kinds of Arabica-style coffee grown all over the world. Each coffee is also graded based on key attributes, incluing aroma, flavor, aftertaste, acidity, etc. and is given an overall score out of 100. This allows us to draw many insights that can be very interesting. For example, are the flavor attributes correlated to a coffee's score? What attribute was most important in the grading of each coffee? These insights can be used for a multitude of other projects and real-world implications. For example, coffee companies could use these insights to further research into coffee's that were scored very high. Also, the insights could break ground on which regions, altitudes, and settings coffee grows most flavorful, aromatic, etc."
      ]
    },
    {
      "cell_type": "markdown",
      "metadata": {
        "id": "4UNMcbC-jvdD"
      },
      "source": [
        "Framing Questions for EDA:\n",
        "\n",
        "1. Does the country the coffee was grown affect it's aroma score?\n",
        "\n",
        "2. Does the country the coffee was grown in affect it's flavor score?\n",
        "\n",
        "3. Does the altitude the coffee was grown at have an impact on its flavor or other attributes?\n",
        "\n",
        "4. Which country grows the most coffee?\n",
        "\n",
        "5. Which coffee attribute is most important in a coffee's grading?\n",
        "\n",
        "6. Which species of coffee has the best flavor? Graded the lowest?\n",
        "\n",
        "...."
      ]
    },
    {
      "cell_type": "markdown",
      "metadata": {
        "id": "pe4q8zKDm7Le"
      },
      "source": [
        "Exploratory Data Analysis"
      ]
    },
    {
      "cell_type": "markdown",
      "metadata": {
        "id": "aV-tyMlBobG_"
      },
      "source": [
        "What columns are available for us to consider in our data analysis?"
      ]
    },
    {
      "cell_type": "code",
      "execution_count": 4,
      "metadata": {
        "colab": {
          "base_uri": "https://localhost:8080/"
        },
        "id": "J_iCMIuVjylX",
        "outputId": "1fcddc65-701a-43b0-fb78-05cfc833dafe"
      },
      "outputs": [
        {
          "data": {
            "text/plain": [
              "Index(['Unnamed: 0', 'Species', 'Owner', 'Country.of.Origin', 'Farm.Name',\n",
              "       'Lot.Number', 'Mill', 'ICO.Number', 'Company', 'Altitude', 'Region',\n",
              "       'Producer', 'Number.of.Bags', 'Bag.Weight', 'In.Country.Partner',\n",
              "       'Harvest.Year', 'Grading.Date', 'Owner.1', 'Variety',\n",
              "       'Processing.Method', 'Aroma', 'Flavor', 'Aftertaste', 'Acidity', 'Body',\n",
              "       'Balance', 'Uniformity', 'Clean.Cup', 'Sweetness', 'Cupper.Points',\n",
              "       'Total.Cup.Points', 'Moisture', 'Category.One.Defects', 'Quakers',\n",
              "       'Color', 'Category.Two.Defects', 'Expiration', 'Certification.Body',\n",
              "       'Certification.Address', 'Certification.Contact', 'unit_of_measurement',\n",
              "       'altitude_low_meters', 'altitude_high_meters', 'altitude_mean_meters'],\n",
              "      dtype='object')"
            ]
          },
          "execution_count": 4,
          "metadata": {},
          "output_type": "execute_result"
        }
      ],
      "source": [
        "Coffee.columns"
      ]
    },
    {
      "cell_type": "markdown",
      "metadata": {
        "id": "4ig_4WcormSa"
      },
      "source": [
        "How clean is the data? Does anything need to be done? How is it arranged?"
      ]
    },
    {
      "cell_type": "code",
      "execution_count": 5,
      "metadata": {
        "colab": {
          "base_uri": "https://localhost:8080/",
          "height": 881
        },
        "id": "cEBdI0pDm_Ra",
        "outputId": "5e400b73-7c02-4cb6-e3ca-b12a98ec6bfa"
      },
      "outputs": [
        {
          "data": {
            "text/html": [
              "<div>\n",
              "<style scoped>\n",
              "    .dataframe tbody tr th:only-of-type {\n",
              "        vertical-align: middle;\n",
              "    }\n",
              "\n",
              "    .dataframe tbody tr th {\n",
              "        vertical-align: top;\n",
              "    }\n",
              "\n",
              "    .dataframe thead th {\n",
              "        text-align: right;\n",
              "    }\n",
              "</style>\n",
              "<table border=\"1\" class=\"dataframe\">\n",
              "  <thead>\n",
              "    <tr style=\"text-align: right;\">\n",
              "      <th></th>\n",
              "      <th>Unnamed: 0</th>\n",
              "      <th>Species</th>\n",
              "      <th>Owner</th>\n",
              "      <th>Country.of.Origin</th>\n",
              "      <th>Farm.Name</th>\n",
              "      <th>Lot.Number</th>\n",
              "      <th>Mill</th>\n",
              "      <th>ICO.Number</th>\n",
              "      <th>Company</th>\n",
              "      <th>Altitude</th>\n",
              "      <th>...</th>\n",
              "      <th>Color</th>\n",
              "      <th>Category.Two.Defects</th>\n",
              "      <th>Expiration</th>\n",
              "      <th>Certification.Body</th>\n",
              "      <th>Certification.Address</th>\n",
              "      <th>Certification.Contact</th>\n",
              "      <th>unit_of_measurement</th>\n",
              "      <th>altitude_low_meters</th>\n",
              "      <th>altitude_high_meters</th>\n",
              "      <th>altitude_mean_meters</th>\n",
              "    </tr>\n",
              "  </thead>\n",
              "  <tbody>\n",
              "    <tr>\n",
              "      <th>0</th>\n",
              "      <td>1</td>\n",
              "      <td>Arabica</td>\n",
              "      <td>metad plc</td>\n",
              "      <td>Ethiopia</td>\n",
              "      <td>metad plc</td>\n",
              "      <td>NaN</td>\n",
              "      <td>metad plc</td>\n",
              "      <td>2014/2015</td>\n",
              "      <td>metad agricultural developmet plc</td>\n",
              "      <td>1950-2200</td>\n",
              "      <td>...</td>\n",
              "      <td>Green</td>\n",
              "      <td>0</td>\n",
              "      <td>April 3rd, 2016</td>\n",
              "      <td>METAD Agricultural Development plc</td>\n",
              "      <td>309fcf77415a3661ae83e027f7e5f05dad786e44</td>\n",
              "      <td>19fef5a731de2db57d16da10287413f5f99bc2dd</td>\n",
              "      <td>m</td>\n",
              "      <td>1950.0</td>\n",
              "      <td>2200.0</td>\n",
              "      <td>2075.0</td>\n",
              "    </tr>\n",
              "    <tr>\n",
              "      <th>1</th>\n",
              "      <td>2</td>\n",
              "      <td>Arabica</td>\n",
              "      <td>metad plc</td>\n",
              "      <td>Ethiopia</td>\n",
              "      <td>metad plc</td>\n",
              "      <td>NaN</td>\n",
              "      <td>metad plc</td>\n",
              "      <td>2014/2015</td>\n",
              "      <td>metad agricultural developmet plc</td>\n",
              "      <td>1950-2200</td>\n",
              "      <td>...</td>\n",
              "      <td>Green</td>\n",
              "      <td>1</td>\n",
              "      <td>April 3rd, 2016</td>\n",
              "      <td>METAD Agricultural Development plc</td>\n",
              "      <td>309fcf77415a3661ae83e027f7e5f05dad786e44</td>\n",
              "      <td>19fef5a731de2db57d16da10287413f5f99bc2dd</td>\n",
              "      <td>m</td>\n",
              "      <td>1950.0</td>\n",
              "      <td>2200.0</td>\n",
              "      <td>2075.0</td>\n",
              "    </tr>\n",
              "    <tr>\n",
              "      <th>2</th>\n",
              "      <td>3</td>\n",
              "      <td>Arabica</td>\n",
              "      <td>grounds for health admin</td>\n",
              "      <td>Guatemala</td>\n",
              "      <td>san marcos barrancas \"san cristobal cuch</td>\n",
              "      <td>NaN</td>\n",
              "      <td>NaN</td>\n",
              "      <td>NaN</td>\n",
              "      <td>NaN</td>\n",
              "      <td>1600 - 1800 m</td>\n",
              "      <td>...</td>\n",
              "      <td>NaN</td>\n",
              "      <td>0</td>\n",
              "      <td>May 31st, 2011</td>\n",
              "      <td>Specialty Coffee Association</td>\n",
              "      <td>36d0d00a3724338ba7937c52a378d085f2172daa</td>\n",
              "      <td>0878a7d4b9d35ddbf0fe2ce69a2062cceb45a660</td>\n",
              "      <td>m</td>\n",
              "      <td>1600.0</td>\n",
              "      <td>1800.0</td>\n",
              "      <td>1700.0</td>\n",
              "    </tr>\n",
              "    <tr>\n",
              "      <th>3</th>\n",
              "      <td>4</td>\n",
              "      <td>Arabica</td>\n",
              "      <td>yidnekachew dabessa</td>\n",
              "      <td>Ethiopia</td>\n",
              "      <td>yidnekachew dabessa coffee plantation</td>\n",
              "      <td>NaN</td>\n",
              "      <td>wolensu</td>\n",
              "      <td>NaN</td>\n",
              "      <td>yidnekachew debessa coffee plantation</td>\n",
              "      <td>1800-2200</td>\n",
              "      <td>...</td>\n",
              "      <td>Green</td>\n",
              "      <td>2</td>\n",
              "      <td>March 25th, 2016</td>\n",
              "      <td>METAD Agricultural Development plc</td>\n",
              "      <td>309fcf77415a3661ae83e027f7e5f05dad786e44</td>\n",
              "      <td>19fef5a731de2db57d16da10287413f5f99bc2dd</td>\n",
              "      <td>m</td>\n",
              "      <td>1800.0</td>\n",
              "      <td>2200.0</td>\n",
              "      <td>2000.0</td>\n",
              "    </tr>\n",
              "    <tr>\n",
              "      <th>4</th>\n",
              "      <td>5</td>\n",
              "      <td>Arabica</td>\n",
              "      <td>metad plc</td>\n",
              "      <td>Ethiopia</td>\n",
              "      <td>metad plc</td>\n",
              "      <td>NaN</td>\n",
              "      <td>metad plc</td>\n",
              "      <td>2014/2015</td>\n",
              "      <td>metad agricultural developmet plc</td>\n",
              "      <td>1950-2200</td>\n",
              "      <td>...</td>\n",
              "      <td>Green</td>\n",
              "      <td>2</td>\n",
              "      <td>April 3rd, 2016</td>\n",
              "      <td>METAD Agricultural Development plc</td>\n",
              "      <td>309fcf77415a3661ae83e027f7e5f05dad786e44</td>\n",
              "      <td>19fef5a731de2db57d16da10287413f5f99bc2dd</td>\n",
              "      <td>m</td>\n",
              "      <td>1950.0</td>\n",
              "      <td>2200.0</td>\n",
              "      <td>2075.0</td>\n",
              "    </tr>\n",
              "    <tr>\n",
              "      <th>5</th>\n",
              "      <td>6</td>\n",
              "      <td>Arabica</td>\n",
              "      <td>ji-ae ahn</td>\n",
              "      <td>Brazil</td>\n",
              "      <td>NaN</td>\n",
              "      <td>NaN</td>\n",
              "      <td>NaN</td>\n",
              "      <td>NaN</td>\n",
              "      <td>NaN</td>\n",
              "      <td>NaN</td>\n",
              "      <td>...</td>\n",
              "      <td>Bluish-Green</td>\n",
              "      <td>1</td>\n",
              "      <td>September 3rd, 2014</td>\n",
              "      <td>Specialty Coffee Institute of Asia</td>\n",
              "      <td>726e4891cf2c9a4848768bd34b668124d12c4224</td>\n",
              "      <td>b70da261fcc84831e3e9620c30a8701540abc200</td>\n",
              "      <td>m</td>\n",
              "      <td>NaN</td>\n",
              "      <td>NaN</td>\n",
              "      <td>NaN</td>\n",
              "    </tr>\n",
              "    <tr>\n",
              "      <th>6</th>\n",
              "      <td>7</td>\n",
              "      <td>Arabica</td>\n",
              "      <td>hugo valdivia</td>\n",
              "      <td>Peru</td>\n",
              "      <td>NaN</td>\n",
              "      <td>NaN</td>\n",
              "      <td>hvc</td>\n",
              "      <td>NaN</td>\n",
              "      <td>richmond investment-coffee department</td>\n",
              "      <td>NaN</td>\n",
              "      <td>...</td>\n",
              "      <td>Bluish-Green</td>\n",
              "      <td>0</td>\n",
              "      <td>September 17th, 2013</td>\n",
              "      <td>Specialty Coffee Institute of Asia</td>\n",
              "      <td>726e4891cf2c9a4848768bd34b668124d12c4224</td>\n",
              "      <td>b70da261fcc84831e3e9620c30a8701540abc200</td>\n",
              "      <td>m</td>\n",
              "      <td>NaN</td>\n",
              "      <td>NaN</td>\n",
              "      <td>NaN</td>\n",
              "    </tr>\n",
              "    <tr>\n",
              "      <th>7</th>\n",
              "      <td>8</td>\n",
              "      <td>Arabica</td>\n",
              "      <td>ethiopia commodity exchange</td>\n",
              "      <td>Ethiopia</td>\n",
              "      <td>aolme</td>\n",
              "      <td>NaN</td>\n",
              "      <td>c.p.w.e</td>\n",
              "      <td>010/0338</td>\n",
              "      <td>NaN</td>\n",
              "      <td>1570-1700</td>\n",
              "      <td>...</td>\n",
              "      <td>NaN</td>\n",
              "      <td>0</td>\n",
              "      <td>September 2nd, 2011</td>\n",
              "      <td>Ethiopia Commodity Exchange</td>\n",
              "      <td>a176532400aebdc345cf3d870f84ed3ecab6249e</td>\n",
              "      <td>61bbaf6a9f341e5782b8e7bd3ebf76aac89fe24b</td>\n",
              "      <td>m</td>\n",
              "      <td>1570.0</td>\n",
              "      <td>1700.0</td>\n",
              "      <td>1635.0</td>\n",
              "    </tr>\n",
              "    <tr>\n",
              "      <th>8</th>\n",
              "      <td>9</td>\n",
              "      <td>Arabica</td>\n",
              "      <td>ethiopia commodity exchange</td>\n",
              "      <td>Ethiopia</td>\n",
              "      <td>aolme</td>\n",
              "      <td>NaN</td>\n",
              "      <td>c.p.w.e</td>\n",
              "      <td>010/0338</td>\n",
              "      <td>NaN</td>\n",
              "      <td>1570-1700</td>\n",
              "      <td>...</td>\n",
              "      <td>NaN</td>\n",
              "      <td>0</td>\n",
              "      <td>September 2nd, 2011</td>\n",
              "      <td>Ethiopia Commodity Exchange</td>\n",
              "      <td>a176532400aebdc345cf3d870f84ed3ecab6249e</td>\n",
              "      <td>61bbaf6a9f341e5782b8e7bd3ebf76aac89fe24b</td>\n",
              "      <td>m</td>\n",
              "      <td>1570.0</td>\n",
              "      <td>1700.0</td>\n",
              "      <td>1635.0</td>\n",
              "    </tr>\n",
              "    <tr>\n",
              "      <th>9</th>\n",
              "      <td>10</td>\n",
              "      <td>Arabica</td>\n",
              "      <td>diamond enterprise plc</td>\n",
              "      <td>Ethiopia</td>\n",
              "      <td>tulla coffee farm</td>\n",
              "      <td>NaN</td>\n",
              "      <td>tulla coffee farm</td>\n",
              "      <td>2014/15</td>\n",
              "      <td>diamond enterprise plc</td>\n",
              "      <td>1795-1850</td>\n",
              "      <td>...</td>\n",
              "      <td>Green</td>\n",
              "      <td>4</td>\n",
              "      <td>March 29th, 2016</td>\n",
              "      <td>METAD Agricultural Development plc</td>\n",
              "      <td>309fcf77415a3661ae83e027f7e5f05dad786e44</td>\n",
              "      <td>19fef5a731de2db57d16da10287413f5f99bc2dd</td>\n",
              "      <td>m</td>\n",
              "      <td>1795.0</td>\n",
              "      <td>1850.0</td>\n",
              "      <td>1822.5</td>\n",
              "    </tr>\n",
              "  </tbody>\n",
              "</table>\n",
              "<p>10 rows × 44 columns</p>\n",
              "</div>"
            ],
            "text/plain": [
              "   Unnamed: 0  Species                        Owner Country.of.Origin  \\\n",
              "0           1  Arabica                    metad plc          Ethiopia   \n",
              "1           2  Arabica                    metad plc          Ethiopia   \n",
              "2           3  Arabica     grounds for health admin         Guatemala   \n",
              "3           4  Arabica          yidnekachew dabessa          Ethiopia   \n",
              "4           5  Arabica                    metad plc          Ethiopia   \n",
              "5           6  Arabica                    ji-ae ahn            Brazil   \n",
              "6           7  Arabica                hugo valdivia              Peru   \n",
              "7           8  Arabica  ethiopia commodity exchange          Ethiopia   \n",
              "8           9  Arabica  ethiopia commodity exchange          Ethiopia   \n",
              "9          10  Arabica       diamond enterprise plc          Ethiopia   \n",
              "\n",
              "                                  Farm.Name Lot.Number               Mill  \\\n",
              "0                                 metad plc        NaN          metad plc   \n",
              "1                                 metad plc        NaN          metad plc   \n",
              "2  san marcos barrancas \"san cristobal cuch        NaN                NaN   \n",
              "3     yidnekachew dabessa coffee plantation        NaN            wolensu   \n",
              "4                                 metad plc        NaN          metad plc   \n",
              "5                                       NaN        NaN                NaN   \n",
              "6                                       NaN        NaN                hvc   \n",
              "7                                     aolme        NaN            c.p.w.e   \n",
              "8                                     aolme        NaN            c.p.w.e   \n",
              "9                         tulla coffee farm        NaN  tulla coffee farm   \n",
              "\n",
              "  ICO.Number                                Company       Altitude  ...  \\\n",
              "0  2014/2015      metad agricultural developmet plc      1950-2200  ...   \n",
              "1  2014/2015      metad agricultural developmet plc      1950-2200  ...   \n",
              "2        NaN                                    NaN  1600 - 1800 m  ...   \n",
              "3        NaN  yidnekachew debessa coffee plantation      1800-2200  ...   \n",
              "4  2014/2015      metad agricultural developmet plc      1950-2200  ...   \n",
              "5        NaN                                    NaN            NaN  ...   \n",
              "6        NaN  richmond investment-coffee department            NaN  ...   \n",
              "7   010/0338                                    NaN      1570-1700  ...   \n",
              "8   010/0338                                    NaN      1570-1700  ...   \n",
              "9    2014/15                 diamond enterprise plc      1795-1850  ...   \n",
              "\n",
              "          Color Category.Two.Defects            Expiration  \\\n",
              "0         Green                    0       April 3rd, 2016   \n",
              "1         Green                    1       April 3rd, 2016   \n",
              "2           NaN                    0        May 31st, 2011   \n",
              "3         Green                    2      March 25th, 2016   \n",
              "4         Green                    2       April 3rd, 2016   \n",
              "5  Bluish-Green                    1   September 3rd, 2014   \n",
              "6  Bluish-Green                    0  September 17th, 2013   \n",
              "7           NaN                    0   September 2nd, 2011   \n",
              "8           NaN                    0   September 2nd, 2011   \n",
              "9         Green                    4      March 29th, 2016   \n",
              "\n",
              "                   Certification.Body  \\\n",
              "0  METAD Agricultural Development plc   \n",
              "1  METAD Agricultural Development plc   \n",
              "2        Specialty Coffee Association   \n",
              "3  METAD Agricultural Development plc   \n",
              "4  METAD Agricultural Development plc   \n",
              "5  Specialty Coffee Institute of Asia   \n",
              "6  Specialty Coffee Institute of Asia   \n",
              "7         Ethiopia Commodity Exchange   \n",
              "8         Ethiopia Commodity Exchange   \n",
              "9  METAD Agricultural Development plc   \n",
              "\n",
              "                      Certification.Address  \\\n",
              "0  309fcf77415a3661ae83e027f7e5f05dad786e44   \n",
              "1  309fcf77415a3661ae83e027f7e5f05dad786e44   \n",
              "2  36d0d00a3724338ba7937c52a378d085f2172daa   \n",
              "3  309fcf77415a3661ae83e027f7e5f05dad786e44   \n",
              "4  309fcf77415a3661ae83e027f7e5f05dad786e44   \n",
              "5  726e4891cf2c9a4848768bd34b668124d12c4224   \n",
              "6  726e4891cf2c9a4848768bd34b668124d12c4224   \n",
              "7  a176532400aebdc345cf3d870f84ed3ecab6249e   \n",
              "8  a176532400aebdc345cf3d870f84ed3ecab6249e   \n",
              "9  309fcf77415a3661ae83e027f7e5f05dad786e44   \n",
              "\n",
              "                      Certification.Contact unit_of_measurement  \\\n",
              "0  19fef5a731de2db57d16da10287413f5f99bc2dd                   m   \n",
              "1  19fef5a731de2db57d16da10287413f5f99bc2dd                   m   \n",
              "2  0878a7d4b9d35ddbf0fe2ce69a2062cceb45a660                   m   \n",
              "3  19fef5a731de2db57d16da10287413f5f99bc2dd                   m   \n",
              "4  19fef5a731de2db57d16da10287413f5f99bc2dd                   m   \n",
              "5  b70da261fcc84831e3e9620c30a8701540abc200                   m   \n",
              "6  b70da261fcc84831e3e9620c30a8701540abc200                   m   \n",
              "7  61bbaf6a9f341e5782b8e7bd3ebf76aac89fe24b                   m   \n",
              "8  61bbaf6a9f341e5782b8e7bd3ebf76aac89fe24b                   m   \n",
              "9  19fef5a731de2db57d16da10287413f5f99bc2dd                   m   \n",
              "\n",
              "  altitude_low_meters altitude_high_meters altitude_mean_meters  \n",
              "0              1950.0               2200.0               2075.0  \n",
              "1              1950.0               2200.0               2075.0  \n",
              "2              1600.0               1800.0               1700.0  \n",
              "3              1800.0               2200.0               2000.0  \n",
              "4              1950.0               2200.0               2075.0  \n",
              "5                 NaN                  NaN                  NaN  \n",
              "6                 NaN                  NaN                  NaN  \n",
              "7              1570.0               1700.0               1635.0  \n",
              "8              1570.0               1700.0               1635.0  \n",
              "9              1795.0               1850.0               1822.5  \n",
              "\n",
              "[10 rows x 44 columns]"
            ]
          },
          "execution_count": 5,
          "metadata": {},
          "output_type": "execute_result"
        }
      ],
      "source": [
        "Coffee.head(10)"
      ]
    },
    {
      "cell_type": "markdown",
      "metadata": {
        "id": "XgWWYX0Oo6Dw"
      },
      "source": [
        "Looking specifically at the Aroma, Flavor, Country, and Altitude of cases in the dataset"
      ]
    },
    {
      "cell_type": "code",
      "execution_count": 6,
      "metadata": {
        "colab": {
          "base_uri": "https://localhost:8080/",
          "height": 362
        },
        "id": "f2o83dKHngE-",
        "outputId": "36579e25-9433-4f74-80f2-2d070778c07c"
      },
      "outputs": [
        {
          "data": {
            "text/html": [
              "<div>\n",
              "<style scoped>\n",
              "    .dataframe tbody tr th:only-of-type {\n",
              "        vertical-align: middle;\n",
              "    }\n",
              "\n",
              "    .dataframe tbody tr th {\n",
              "        vertical-align: top;\n",
              "    }\n",
              "\n",
              "    .dataframe thead th {\n",
              "        text-align: right;\n",
              "    }\n",
              "</style>\n",
              "<table border=\"1\" class=\"dataframe\">\n",
              "  <thead>\n",
              "    <tr style=\"text-align: right;\">\n",
              "      <th></th>\n",
              "      <th>Aroma</th>\n",
              "      <th>Flavor</th>\n",
              "      <th>Country.of.Origin</th>\n",
              "      <th>altitude_mean_meters</th>\n",
              "    </tr>\n",
              "  </thead>\n",
              "  <tbody>\n",
              "    <tr>\n",
              "      <th>0</th>\n",
              "      <td>8.67</td>\n",
              "      <td>8.83</td>\n",
              "      <td>Ethiopia</td>\n",
              "      <td>2075.0</td>\n",
              "    </tr>\n",
              "    <tr>\n",
              "      <th>1</th>\n",
              "      <td>8.75</td>\n",
              "      <td>8.67</td>\n",
              "      <td>Ethiopia</td>\n",
              "      <td>2075.0</td>\n",
              "    </tr>\n",
              "    <tr>\n",
              "      <th>2</th>\n",
              "      <td>8.42</td>\n",
              "      <td>8.50</td>\n",
              "      <td>Guatemala</td>\n",
              "      <td>1700.0</td>\n",
              "    </tr>\n",
              "    <tr>\n",
              "      <th>3</th>\n",
              "      <td>8.17</td>\n",
              "      <td>8.58</td>\n",
              "      <td>Ethiopia</td>\n",
              "      <td>2000.0</td>\n",
              "    </tr>\n",
              "    <tr>\n",
              "      <th>4</th>\n",
              "      <td>8.25</td>\n",
              "      <td>8.50</td>\n",
              "      <td>Ethiopia</td>\n",
              "      <td>2075.0</td>\n",
              "    </tr>\n",
              "    <tr>\n",
              "      <th>5</th>\n",
              "      <td>8.58</td>\n",
              "      <td>8.42</td>\n",
              "      <td>Brazil</td>\n",
              "      <td>NaN</td>\n",
              "    </tr>\n",
              "    <tr>\n",
              "      <th>6</th>\n",
              "      <td>8.42</td>\n",
              "      <td>8.50</td>\n",
              "      <td>Peru</td>\n",
              "      <td>NaN</td>\n",
              "    </tr>\n",
              "    <tr>\n",
              "      <th>7</th>\n",
              "      <td>8.25</td>\n",
              "      <td>8.33</td>\n",
              "      <td>Ethiopia</td>\n",
              "      <td>1635.0</td>\n",
              "    </tr>\n",
              "    <tr>\n",
              "      <th>8</th>\n",
              "      <td>8.67</td>\n",
              "      <td>8.67</td>\n",
              "      <td>Ethiopia</td>\n",
              "      <td>1635.0</td>\n",
              "    </tr>\n",
              "    <tr>\n",
              "      <th>9</th>\n",
              "      <td>8.08</td>\n",
              "      <td>8.58</td>\n",
              "      <td>Ethiopia</td>\n",
              "      <td>1822.5</td>\n",
              "    </tr>\n",
              "  </tbody>\n",
              "</table>\n",
              "</div>"
            ],
            "text/plain": [
              "   Aroma  Flavor Country.of.Origin  altitude_mean_meters\n",
              "0   8.67    8.83          Ethiopia                2075.0\n",
              "1   8.75    8.67          Ethiopia                2075.0\n",
              "2   8.42    8.50         Guatemala                1700.0\n",
              "3   8.17    8.58          Ethiopia                2000.0\n",
              "4   8.25    8.50          Ethiopia                2075.0\n",
              "5   8.58    8.42            Brazil                   NaN\n",
              "6   8.42    8.50              Peru                   NaN\n",
              "7   8.25    8.33          Ethiopia                1635.0\n",
              "8   8.67    8.67          Ethiopia                1635.0\n",
              "9   8.08    8.58          Ethiopia                1822.5"
            ]
          },
          "execution_count": 6,
          "metadata": {},
          "output_type": "execute_result"
        }
      ],
      "source": [
        "Coffee.head(10)[['Aroma','Flavor','Country.of.Origin','altitude_mean_meters']]"
      ]
    },
    {
      "cell_type": "markdown",
      "metadata": {
        "id": "9NmyY3TukxwY"
      },
      "source": [
        "SUBMIT INDIVUDALLY"
      ]
    },
    {
      "cell_type": "markdown",
      "metadata": {
        "id": "MJMc0xx6kRoF"
      },
      "source": [
        "What we are being graded on?\n",
        "\n",
        "Motivation/Relevance: Does the tutorial make the reader believe the topic is important (a) in general and (b) with respect to data analysis/data science?\n",
        "\n",
        "• Ease of Understanding: is it easy to process the topic?\n",
        "\n",
        "• Prose: Does the prose in the Markdown portion of the .ipynb add to the reader’s understanding of the tutorial and does it connect well with the code that it describes?\n",
        "\n",
        "• Code: Does the code help solidify understanding, is it well documented, and does it include helpful examples?\n",
        "\n",
        "• Presentation: Attractiveness and Ease of Processing on the Web\n",
        "\n",
        "• Persuasiveness: Level to which topic is presented as relevant, originality of the questions asked, and how the data is used to craft a story to address the questions\n",
        "\n",
        "• Useful resources: other resources that would help the reader understand basic concepts, deep dive, related work, etc?"
      ]
    },
    {
      "cell_type": "markdown",
      "metadata": {},
      "source": [
        "2. Does the country the coffee was grown in affect it's flavor score?"
      ]
    },
    {
      "cell_type": "code",
      "execution_count": null,
      "metadata": {},
      "outputs": [],
      "source": []
    },
    {
      "cell_type": "code",
      "execution_count": 7,
      "metadata": {},
      "outputs": [
        {
          "data": {
            "image/png": "[encoded data removed]",
            "text/plain": [
              "<Figure size 640x480 with 1 Axes>"
            ]
          },
          "metadata": {},
          "output_type": "display_data"
        }
      ],
      "source": [
        "FlavorbyCountry = Coffee[['Country.of.Origin','Flavor']]\n",
        "\n",
        "df = pd.DataFrame(FlavorbyCountry)\n",
        "\n",
        "grouped_df = df.groupby('Country.of.Origin')['Flavor'].mean()\n",
        "\n",
        "# Plotting using Matplotlib and Pandas\n",
        "grouped_df.plot(x='Country.of.Origin', y='Flavor', kind='line', title='Country vs Flavor')\n",
        "plt.xlabel('Country')\n",
        "plt.ylabel('Flavor')\n",
        "plt.show()"
      ]
    },
    {
      "cell_type": "markdown",
      "metadata": {},
      "source": [
        "4. Which country grows the most coffee?"
      ]
    },
    {
      "cell_type": "code",
      "execution_count": 33,
      "metadata": {},
      "outputs": [
        {
          "data": {
            "image/png": "[encoded data removed]",
            "text/plain": [
              "<Figure size 640x480 with 1 Axes>"
            ]
          },
          "metadata": {},
          "output_type": "display_data"
        }
      ],
      "source": [
        "MostCoffee = Coffee[['Country.of.Origin','Number.of.Bags']]\n",
        "\n",
        "df = pd.DataFrame(MostCoffee)\n",
        "\n",
        "grouped_df = df.groupby('Country.of.Origin')['Number.of.Bags'].sum()\n",
        "\n",
        "# Plotting using Matplotlib and Pandas\n",
        "grouped_df.plot(x='Country.of.Origin', y='Number.of.Bags', kind='line', title='Which Country produces the most coffee?')\n",
        "plt.xlabel('Country')\n",
        "plt.ylabel('# of Bags')\n",
        "plt.show()"
      ]
    },
    {
      "cell_type": "markdown",
      "metadata": {},
      "source": [
        "6. Which species of coffee has the best flavor? Graded the lowest?"
      ]
    },
    {
      "cell_type": "code",
      "execution_count": 21,
      "metadata": {},
      "outputs": [
        {
          "data": {
            "text/html": [
              "<div>\n",
              "<style scoped>\n",
              "    .dataframe tbody tr th:only-of-type {\n",
              "        vertical-align: middle;\n",
              "    }\n",
              "\n",
              "    .dataframe tbody tr th {\n",
              "        vertical-align: top;\n",
              "    }\n",
              "\n",
              "    .dataframe thead th {\n",
              "        text-align: right;\n",
              "    }\n",
              "</style>\n",
              "<table border=\"1\" class=\"dataframe\">\n",
              "  <thead>\n",
              "    <tr style=\"text-align: right;\">\n",
              "      <th></th>\n",
              "      <th>altitude_mean_meters</th>\n",
              "      <th>Total.Cup.Points</th>\n",
              "    </tr>\n",
              "  </thead>\n",
              "  <tbody>\n",
              "    <tr>\n",
              "      <th>0</th>\n",
              "      <td>2075.00</td>\n",
              "      <td>90.58</td>\n",
              "    </tr>\n",
              "    <tr>\n",
              "      <th>1</th>\n",
              "      <td>2075.00</td>\n",
              "      <td>89.92</td>\n",
              "    </tr>\n",
              "    <tr>\n",
              "      <th>2</th>\n",
              "      <td>1700.00</td>\n",
              "      <td>89.75</td>\n",
              "    </tr>\n",
              "    <tr>\n",
              "      <th>3</th>\n",
              "      <td>2000.00</td>\n",
              "      <td>89.00</td>\n",
              "    </tr>\n",
              "    <tr>\n",
              "      <th>4</th>\n",
              "      <td>2075.00</td>\n",
              "      <td>88.83</td>\n",
              "    </tr>\n",
              "    <tr>\n",
              "      <th>...</th>\n",
              "      <td>...</td>\n",
              "      <td>...</td>\n",
              "    </tr>\n",
              "    <tr>\n",
              "      <th>1306</th>\n",
              "      <td>900.00</td>\n",
              "      <td>68.33</td>\n",
              "    </tr>\n",
              "    <tr>\n",
              "      <th>1307</th>\n",
              "      <td>350.00</td>\n",
              "      <td>67.92</td>\n",
              "    </tr>\n",
              "    <tr>\n",
              "      <th>1308</th>\n",
              "      <td>1100.00</td>\n",
              "      <td>63.08</td>\n",
              "    </tr>\n",
              "    <tr>\n",
              "      <th>1309</th>\n",
              "      <td>1417.32</td>\n",
              "      <td>59.83</td>\n",
              "    </tr>\n",
              "    <tr>\n",
              "      <th>1310</th>\n",
              "      <td>1400.00</td>\n",
              "      <td>0.00</td>\n",
              "    </tr>\n",
              "  </tbody>\n",
              "</table>\n",
              "<p>1311 rows × 2 columns</p>\n",
              "</div>"
            ],
            "text/plain": [
              "      altitude_mean_meters  Total.Cup.Points\n",
              "0                  2075.00             90.58\n",
              "1                  2075.00             89.92\n",
              "2                  1700.00             89.75\n",
              "3                  2000.00             89.00\n",
              "4                  2075.00             88.83\n",
              "...                    ...               ...\n",
              "1306                900.00             68.33\n",
              "1307                350.00             67.92\n",
              "1308               1100.00             63.08\n",
              "1309               1417.32             59.83\n",
              "1310               1400.00              0.00\n",
              "\n",
              "[1311 rows x 2 columns]"
            ]
          },
          "execution_count": 21,
          "metadata": {},
          "output_type": "execute_result"
        }
      ],
      "source": [
        "AltitudeTotalScore= Coffee[['altitude_mean_meters','Total.Cup.Points']]\n",
        "AltitudeTotalScore"
      ]
    },
    {
      "cell_type": "code",
      "execution_count": 32,
      "metadata": {},
      "outputs": [
        {
          "data": {
            "image/png": "[encoded data removed]",
            "text/plain": [
              "<Figure size 640x480 with 1 Axes>"
            ]
          },
          "metadata": {},
          "output_type": "display_data"
        }
      ],
      "source": [
        "AltitudeTotalScore= Coffee[['altitude_mean_meters','Total.Cup.Points']]\n",
        "\n",
        "df = pd.DataFrame(AltitudeTotalScore)\n",
        "\n",
        "grouped_df = df.groupby('altitude_mean_meters')['Total.Cup.Points'].sum()\n",
        "\n",
        "# Plotting using Matplotlib and Pandas\n",
        "grouped_df.plot(x='altitude_mean_meters', y='Total.Cup.Points', kind='line', title='Does altitude affect the flavor?')\n",
        "plt.xlabel('Altitude (in meters)')\n",
        "plt.ylabel('Flavor points')\n",
        "plt.xlim(-10, 1000)\n",
        "plt.ylim(0,100)\n",
        "plt.show()"
      ]
    },
    {
      "cell_type": "code",
      "execution_count": 25,
      "metadata": {},
      "outputs": [
        {
          "data": {
            "text/plain": [
              "<pandas.core.groupby.generic.SeriesGroupBy object at 0x7fb56734e230>"
            ]
          },
          "execution_count": 25,
          "metadata": {},
          "output_type": "execute_result"
        }
      ],
      "source": []
    }
  ],
  "metadata": {
    "colab": {
      "authorship_tag": "ABX9TyNNZq8z843PU2ar9+z3yHQ/",
      "include_colab_link": true,
      "provenance": []
    },
    "kernelspec": {
      "display_name": "Python 3",
      "name": "python3"
    },
    "language_info": {
      "codemirror_mode": {
        "name": "ipython",
        "version": 3
      },
      "file_extension": ".py",
      "mimetype": "text/x-python",
      "name": "python",
      "nbconvert_exporter": "python",
      "pygments_lexer": "ipython3",
      "version": "3.10.13"
    }
  },
  "nbformat": 4,
  "nbformat_minor": 0
}
